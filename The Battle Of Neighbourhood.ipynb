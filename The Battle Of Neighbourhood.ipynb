{
    "cells": [
        {
            "cell_type": "markdown",
            "metadata": {
                "collapsed": true
            },
            "source": "## Introduction : Business Problem"
        },
        {
            "cell_type": "markdown",
            "metadata": {},
            "source": "This project will try to find an optimal location for a coffee shop. Specifically, it will be targeted to stakeholders interested in opening a **coffee shop** in **Toronto City**.\n\nSince there are already a lot of coffee shops in Toronto City, we will try to find areas that **still have a few of coffee shops**, and would also prefer that the locations **close to universities**. We will look what kind of coffe shops are available near the area, and gain insight to decide **what kind of coffee shops that we need to build**, to differentiate us with the other existing coffee shops or and to understand the customer's preference on coffee. \n\nWe will use data science algorithm to explore and analyze the data to find the best neighbourhoods, and use the insights that we gain **to decide where are the most optimals options and generate the final location chosen by the stakeholder**."
        },
        {
            "cell_type": "markdown",
            "metadata": {},
            "source": "## Data "
        },
        {
            "cell_type": "markdown",
            "metadata": {},
            "source": "Based on the business problem description, **the data that needed to be explored and analyzed are:**\n* number of existing coffee shops in the neighborhood \n* number of and distance of the coffee shops in the neighborhood\n* number of existing universities near the neighborhood\n* number of existing universities near the coffee shops (< 1Km)\n* the coffee shops most favourite coffee drink\n\n**The data sources** that will be needed to extract/generate the required information are as follow:\n* Neighbourhood, borough, latitude & longitude of Toronto City will be excerpt algorithmically from Wikipedia or Google Maps API reverse geocoding\n* Number of coffee shops and their type and location in every neighborhood will be obtained using Foursquare API\n* Number of universities near the coffee shops will be obtained using Foursquare API"
        },
        {
            "cell_type": "code",
            "execution_count": null,
            "metadata": {},
            "outputs": [],
            "source": ""
        }
    ],
    "metadata": {
        "kernelspec": {
            "display_name": "Python 3.7",
            "language": "python",
            "name": "python3"
        },
        "language_info": {
            "codemirror_mode": {
                "name": "ipython",
                "version": 3
            },
            "file_extension": ".py",
            "mimetype": "text/x-python",
            "name": "python",
            "nbconvert_exporter": "python",
            "pygments_lexer": "ipython3",
            "version": "3.7.9"
        }
    },
    "nbformat": 4,
    "nbformat_minor": 1
}